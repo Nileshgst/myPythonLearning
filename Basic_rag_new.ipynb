{
 "cells": [
  {
   "cell_type": "code",
   "execution_count": 1,
   "id": "19ae26dd-f2da-4a6b-b628-72d2fc757dfc",
   "metadata": {},
   "outputs": [],
   "source": [
    "from langchain_community.document_loaders import UnstructuredURLLoader\n",
    "urls=['https://www.victoriaonmove.com.au/index.html','https://www.tataamantra.com/']\n",
    "loader = UnstructuredURLLoader(urls=urls)\n",
    "data = loader.load()"
   ]
  },
  {
   "cell_type": "code",
   "execution_count": 3,
   "id": "75636960-f1e8-4f22-a34f-db27764c6bb1",
   "metadata": {},
   "outputs": [],
   "source": [
    "#data"
   ]
  },
  {
   "cell_type": "code",
   "execution_count": 6,
   "id": "940ab272-5b02-44c5-a449-ee8c4014aca3",
   "metadata": {},
   "outputs": [
    {
     "name": "stdout",
     "output_type": "stream",
     "text": [
      "Total number of documents: 11\n"
     ]
    }
   ],
   "source": [
    "from langchain.text_splitter import RecursiveCharacterTextSplitter\n",
    "#Split Data\n",
    "text_splitter = RecursiveCharacterTextSplitter(chunk_size=1000)\n",
    "docs = text_splitter.split_documents(data)\n",
    "\n",
    "#print(docs)\n",
    "#print(docs[2])\n",
    "print(\"Total number of documents:\",len(docs))"
   ]
  },
  {
   "cell_type": "code",
   "execution_count": 7,
   "id": "b267baa4-fe1f-4e57-a128-eea828ac20f7",
   "metadata": {},
   "outputs": [
    {
     "data": {
      "text/plain": [
       "Document(metadata={'source': 'https://www.tataamantra.com/'}, page_content='Price\\n\\nType Carpet Area Price 2 BHK 617 Sq.Ft ₹0 Price Breakup 3 BHK 852 Sq.Ft ₹0 Price Breakup\\n\\nENQUIRE NOW\\n\\nComplete Costing Details\\n\\nFloor Plan\\n\\n2 BHK Type 1\\n\\nENQUIRE NOW\\n\\n2 BHK Type 2\\n\\nENQUIRE NOW\\n\\n2 BHK Type 3\\n\\nENQUIRE NOW\\n\\n3 BHK\\n\\nENQUIRE NOW\\n\\nGallery\\n\\nPrevious Next\\n\\nAmenities\\n\\nSwimming Pool\\n\\nGymnasium\\n\\nLibrary\\n\\nIndoor Games\\n\\nMulti Purpose Hall\\n\\nChildren Play Area\\n\\nGreen Lawn\\n\\nSquash Court\\n\\nMeditation\\n\\nSenior Citizen Area\\n\\nDigital Fitness Workout Zone\\n\\nVirtual Gaming Room\\n\\nBox Office\\n\\nMap View\\n\\nTata Amantra location is at the heart of all major hubs and conveniences. You will find the best of healthcare, education, entertainment. The residences integrate well with the surroundings, with select homes opening to expansive views of the Ulhas River, sunrise, pastures, the skyline of Thane and the neighbouring Kalyan and Thane suburbs.\\n\\nMumbai-Nashik expressway - 0 Mins\\n\\nThane - 20 Min\\n\\nBhiwandi Station - 15 Min\\n\\nKalyan Station - 20 Min\\n\\nNRI Services')"
      ]
     },
     "execution_count": 7,
     "metadata": {},
     "output_type": "execute_result"
    }
   ],
   "source": [
    "docs[5]"
   ]
  },
  {
   "cell_type": "code",
   "execution_count": 9,
   "id": "aed4ac21-48c5-45f7-8a7d-97e97c704cfe",
   "metadata": {},
   "outputs": [
    {
     "data": {
      "text/plain": [
       "[-0.004344039596617222,\n",
       " 0.02825145050883293,\n",
       " -0.01968097873032093,\n",
       " -0.0031384320463985205,\n",
       " 0.055905234068632126]"
      ]
     },
     "execution_count": 9,
     "metadata": {},
     "output_type": "execute_result"
    }
   ],
   "source": [
    "from langchain_chroma import Chroma\n",
    "#from langchain_openai import OpenAIEmbeddings\n",
    "from langchain_google_genai import GoogleGenerativeAIEmbeddings\n",
    "#from langchain_google_genai import GoogleGenerativeAIEmbeddings\n",
    "#from langchain_openai import OpenAI\n",
    "from dotenv import load_dotenv\n",
    "load_dotenv()\n",
    "embeddings=GoogleGenerativeAIEmbeddings(model=\"models/embedding-001\")\n",
    "vector =embeddings.embed_query(\"Hello Nilesh\")\n",
    "vector[:5]\n",
    "#vectorstore = Chroma.from_documents(documents=docs, embedding=OpenAIEmbeddings())"
   ]
  },
  {
   "cell_type": "code",
   "execution_count": 10,
   "id": "734122e6-8093-4301-a733-b236f8403c6b",
   "metadata": {},
   "outputs": [],
   "source": [
    "vectorstore = Chroma.from_documents(documents=docs, embedding=GoogleGenerativeAIEmbeddings(model=\"models/embedding-001\"))"
   ]
  },
  {
   "cell_type": "code",
   "execution_count": 11,
   "id": "1503bba1-4133-4f73-9627-cede9c08f84f",
   "metadata": {},
   "outputs": [],
   "source": [
    "retriever = vectorstore.as_retriever(search_type=\"similarity\", search_kwargs={\"k\": 10})\n",
    "retrieved_docs=retriever.invoke(\"What is tataamantra\")\n",
    "#llm = ChatGoogleGenerativeAI(model=\"gemini-1.5-pro\",temperature=0,max_tokens=None,timeout=None)"
   ]
  },
  {
   "cell_type": "code",
   "execution_count": 12,
   "id": "fac3f08d-ee57-47ca-9886-e44f2ee53284",
   "metadata": {},
   "outputs": [
    {
     "data": {
      "text/plain": [
       "[Document(id='1264e6a0-26c5-449e-963c-d169ef18ff48', metadata={'source': 'https://www.tataamantra.com/'}, page_content='logo\\n\\nBOOKING OPEN\\n\\nTATA Amantra\\n\\nAt Bhiwandi, Thane By Tata Group\\n\\nLand Area : Ready To Move In Homes\\n\\nOC Recieved\\n\\nLiving Experience That Moves Beyond Just Four Walls\\n\\nBuy A 3 BHK At The Same Price Of A 2 BHK\\n\\nReady To Move In Flats\\n\\nRs. 9000/- Per Sq.Ft. | Offer Valid Till Tomorrow | Hurry Now!\\n\\n2 & 3 BHK Luxury Homes\\n\\n₹ 58.5 Lacs* Onwards\\n\\nFree Cab Facility\\n\\nFree cab facility for site visit\\n\\nAt Bhiwandi, Thane\\n\\nReady to Move In Home at TATA Amantra Offers 2 & 3 BHK Flat In Bhiwandi At 58.5 Lac* Views of Ulhas River, Sunrise. Get Price Benefits, 25000 sq.ft. Clubhouse. Mid and High-rise Towers Of 34 Storeys. Unlock Happiness Ready to Move In Homes at Tata Amantra. Views of Ulhas River, Sunrise. Wake Up to Beautiful View Everyday At Amantra, Kalyan. 25+ Premium Amenities. 20 Acres Land. Bhiwandi-Kalyan Corridor. Grab Booking Offer. Click On Enquire Now Or Call Us To Get More Information Of Tata Amantra.\\n\\nPrice'),\n",
       " Document(id='503f082f-6182-4ae0-9c36-510f6a990752', metadata={'source': 'https://www.tataamantra.com/'}, page_content='Price\\n\\nType Carpet Area Price 2 BHK 617 Sq.Ft ₹0 Price Breakup 3 BHK 852 Sq.Ft ₹0 Price Breakup\\n\\nENQUIRE NOW\\n\\nComplete Costing Details\\n\\nFloor Plan\\n\\n2 BHK Type 1\\n\\nENQUIRE NOW\\n\\n2 BHK Type 2\\n\\nENQUIRE NOW\\n\\n2 BHK Type 3\\n\\nENQUIRE NOW\\n\\n3 BHK\\n\\nENQUIRE NOW\\n\\nGallery\\n\\nPrevious Next\\n\\nAmenities\\n\\nSwimming Pool\\n\\nGymnasium\\n\\nLibrary\\n\\nIndoor Games\\n\\nMulti Purpose Hall\\n\\nChildren Play Area\\n\\nGreen Lawn\\n\\nSquash Court\\n\\nMeditation\\n\\nSenior Citizen Area\\n\\nDigital Fitness Workout Zone\\n\\nVirtual Gaming Room\\n\\nBox Office\\n\\nMap View\\n\\nTata Amantra location is at the heart of all major hubs and conveniences. You will find the best of healthcare, education, entertainment. The residences integrate well with the surroundings, with select homes opening to expansive views of the Ulhas River, sunrise, pastures, the skyline of Thane and the neighbouring Kalyan and Thane suburbs.\\n\\nMumbai-Nashik expressway - 0 Mins\\n\\nThane - 20 Min\\n\\nBhiwandi Station - 15 Min\\n\\nKalyan Station - 20 Min\\n\\nNRI Services'),\n",
       " Document(id='6090cb78-84a5-4e45-aac9-fb080978a793', metadata={'source': 'https://www.tataamantra.com/'}, page_content=\"About Tata Group\\n\\nTATA Housing has evolved into one of the fastest growing real estate development companies in India. With the primary business being development of properties in residential, commercial and retail sectors, the company's operations span across various aspects of real estate development, such as land identification and acquisition, project planning, designing, marketing & sales, project execution, property services and estate management.\\n\\nAbout Horizon\\n\\nHorizon stands out as a rapidly expanding tech-driven enterprise within the structured real estate sector. We are committed to streamlining the home-buying process, guaranteeing dependable and seamless real estate transactions. Our platform prioritizes the endorsement of reputable partner brands, facilitating transparent and efficient promotion strategies to effectively engage their intended audience.\\n\\nRERA Number\\n\\nThis project is RERA registered maharera.maharashtra.gov.in\\n\\n\\n\\nP51700000308\"),\n",
       " Document(id='72f8cb11-50fb-4010-b148-ad47d5def67e', metadata={'source': 'https://www.tataamantra.com/'}, page_content=\"Mumbai-Nashik expressway - 0 Mins\\n\\nThane - 20 Min\\n\\nBhiwandi Station - 15 Min\\n\\nKalyan Station - 20 Min\\n\\nNRI Services\\n\\nWe provides better, excellent, and different service from what is usual especially to NRI's. As we have huge team exclusively for NRI clients, We understand your demand and desire deeply and provides you with profound facilities as per your need and preferences.We provide better, greater, and different service from what is usual especially to NRI's. As we have huge team exclusively for NRI clients, we understand your demand and desire deeply and provide you with profound facilities as per your need and preferences. We have a different massive team for NRI client thus they perform their role as per their convenience of meeting and guide them with their budgeting, location confusion, configuration selection and documentation process. With us you have to sit and enjoy your hot coffee and rest is our duty\\n\\nAbout Tata Group\"),\n",
       " Document(id='5dace73b-6264-41c9-b120-3ae15ec7530f', metadata={'source': 'https://www.tataamantra.com/'}, page_content='RERA Number\\n\\nThis project is RERA registered maharera.maharashtra.gov.in\\n\\n\\n\\nP51700000308\\n\\nProject Registered under Government of India RERA Act 2016 | maharera.maharashtra.gov.in Government RERA Authorised Advertiser’s: Horizon Proptech Pvt Ltd CIN : U74999MH2020PTC337300 MAHA RERA Registration No.: A51800001892,'),\n",
       " Document(id='733bcbbd-e4b6-40a2-a927-e274bf4ad09b', metadata={'source': 'https://www.tataamantra.com/'}, page_content='2024 © Copyright - All Rights Reserved. Privacy Policy || Terms & Conditions || Contact Us\\n\\nPre-Register here for Best Offers\\n\\nFree Cab facility\\n\\nFree cab facility for site visit\\n\\nMail Me Pricing Details\\n\\nPre-Register here for Best offers\\n\\nFree Cab\\n\\nFree cab facility for site visit'),\n",
       " Document(id='b99a161e-1a84-487c-89eb-31bb674447dc', metadata={'source': 'https://www.tataamantra.com/'}, page_content=\"Disclaimer : This is an informational portal managed by a RERA-authorized real estate agent and is not an official site. The information provided does not constitute a guarantee or offer of services. This website's prices and availability are subject to change without prior notice. These images are for representational purposes only and may not accurately reflect the actual properties. Data collected from you may be shared with RERA registered developers for processing. In addition, you may receive updates and information by email or mobile phone. All rights reserved. This website's content, design, and information are protected by copyright. Unauthorized use or reproduction of the content is prohibited. In order to get accurate and up-to-date information about services, pricing, availability, and any other details, please contact us directly using the contact information provided on this website. We are glad you visited our site.\"),\n",
       " Document(id='dba2ca3d-7bc2-4edb-8743-cfd9fe2dc1da', metadata={'source': 'https://www.victoriaonmove.com.au/index.html'}, page_content=\"2 BED HOME:\\n\\n2 Beds, Mattress, Tall Boy, Bedside, Refrigerator, Washing Machine,Dresser, Barbeque, Some Boxes, Loose stuff.\\n\\nBig HOME:\\n\\n4-5 Bed Room, Double Lounge, Mattress, Tall Boy, Bedside, Refrigerator, Washing Machine,Dresser, Barbeque, Some Boxes,Furniture, Loose stuff. Get a Quote\\n\\nInterstate Removalists:\\n\\nSeamless Relocation Across State Lines\\n\\n\\n\\nMelbourne to Sydney Removalists\\n\\nBook Now\\n\\n\\n\\nMelbourne to Brisbane Removalists\\n\\nBook Now\\n\\n\\n\\nMelbourne to Adelaide Removalists\\n\\nBook Now\\n\\n\\n\\nMelbourne to Canberra Removalists\\n\\nBook Now\\n\\n\\n\\nOUR MOVING WORK & ETHICS\\n\\nMoving house furniture is an art that comes with experience and a steadfast commitment to our customers' needs. It's a challenging industry, and not everyone survives for long without the expertise and dedication that we bring to every job. Our long history as Removalists in Melbourne is a testament to our sincerity and hard work.\"),\n",
       " Document(id='378192a2-dece-4a83-bff6-185f09ce6e8a', metadata={'source': 'https://www.victoriaonmove.com.au/index.html'}, page_content='Loading...\\n\\nRelocate with confidence\\n\\nYour trusted partner in seamless moving and packing solutions!\\n\\nGoogle logo G\\n\\nGoogle Rating\\n\\nGold star icon\\n\\nGold star icon\\n\\nGold star icon\\n\\nGold star icon\\n\\nGold star icon\\n\\n5 stars, 111 reviews\\n\\n\\n\\n\\n\\n\\n\\n\\n\\nRequst A call for You:\\n\\nExplore Our Fleet\\n\\nVehicles Tailored for Your Moving Needs\\n\\nIcon\\n\\nSmall Truck\\n\\nWith 2 Mover\\n\\nFrom $110/hr\\n\\n4.5 ton 20 cubic Our Small Truck can manage a student apartment, small office .\\n\\nIcon\\n\\nMedium Truck\\n\\nWith 2 Mover\\n\\nFrom $130 p/hr\\n\\n6 ton 30-35 cubic\\n\\nOur Medium trucks can manage 2-3 bedroom with single lounge outdoor boxes and miscellaneous.\\n\\nIcon\\n\\nLarge Truck\\n\\nWith 2 Mover\\n\\nFrom $140 p/hr\\n\\n8 ton 40 cubic Our Large trucks can handle 3-4 bedrooms with double lounge outdoor boxes and miscellaneous.\\n\\nIcon\\n\\nX-Large Truck\\n\\nWith 2 Mover\\n\\nFrom $150 p/hr\\n\\n4.5 ton 20 cubic (10 ton or 50 cubic meter) Our X-Large trucks can handle 3-4 bedrooms double lounge outdoor miscellaneous items.\\n\\n\\n\\nOUR SERVICE'),\n",
       " Document(id='6f0b572c-b64a-4fe6-845d-97c23999c9d7', metadata={'source': 'https://www.victoriaonmove.com.au/index.html'}, page_content='Icon\\n\\nX-Large Truck\\n\\nWith 2 Mover\\n\\nFrom $150 p/hr\\n\\n4.5 ton 20 cubic (10 ton or 50 cubic meter) Our X-Large trucks can handle 3-4 bedrooms double lounge outdoor miscellaneous items.\\n\\n\\n\\nOUR SERVICE\\n\\nWE OFFER QUICK & POWERFUL LOGISTICS SOLUTION\\n\\nFURNITURE REMOVALS:\\n\\nWe are the furniture removals specialists in Victoria. Our Teams are experienced and comes with Furniture moving equipments like- Trolleys. Blankets, Loading Ramps.\\n\\nINSURANCE:\\n\\nVictoria On Move Pvt Ltd. look after your goods arrive safely at your destination. We have Transit and Public liability insurance. Transit insurance covers loading and unloading from vehicle , and Road accident cover.\\n\\n1 BED HOME:\\n\\n1 Bed, Mattress, Tall Boy, Bedside, Refrigerator, Washing Machine, Some Boxes.\\n\\n2 BED HOME:\\n\\n2 Beds, Mattress, Tall Boy, Bedside, Refrigerator, Washing Machine,Dresser, Barbeque, Some Boxes, Loose stuff.\\n\\nBig HOME:')]"
      ]
     },
     "execution_count": 12,
     "metadata": {},
     "output_type": "execute_result"
    }
   ],
   "source": [
    "retrieved_docs"
   ]
  },
  {
   "cell_type": "code",
   "execution_count": 13,
   "id": "47b634e1-fd6e-48d7-adeb-a421a9559d1b",
   "metadata": {},
   "outputs": [
    {
     "data": {
      "text/plain": [
       "10"
      ]
     },
     "execution_count": 13,
     "metadata": {},
     "output_type": "execute_result"
    }
   ],
   "source": [
    "len(retrieved_docs)"
   ]
  },
  {
   "cell_type": "code",
   "execution_count": 15,
   "id": "104f1104-fd8d-4009-a5a2-665aec277936",
   "metadata": {},
   "outputs": [
    {
     "name": "stdout",
     "output_type": "stream",
     "text": [
      "2024 © Copyright - All Rights Reserved. Privacy Policy || Terms & Conditions || Contact Us\n",
      "\n",
      "Pre-Register here for Best Offers\n",
      "\n",
      "Free Cab facility\n",
      "\n",
      "Free cab facility for site visit\n",
      "\n",
      "Mail Me Pricing Details\n",
      "\n",
      "Pre-Register here for Best offers\n",
      "\n",
      "Free Cab\n",
      "\n",
      "Free cab facility for site visit\n"
     ]
    }
   ],
   "source": [
    "print(retrieved_docs[5].page_content)"
   ]
  },
  {
   "cell_type": "code",
   "execution_count": 16,
   "id": "06ca461e-514c-4c87-8f23-94a9d4bdf677",
   "metadata": {},
   "outputs": [],
   "source": [
    "from langchain_google_genai import ChatGoogleGenerativeAI\n",
    "llm = ChatGoogleGenerativeAI(model=\"gemini-1.5-pro\",temperature=0.3,max_tokens=500,timeout=None)\n"
   ]
  },
  {
   "cell_type": "code",
   "execution_count": 17,
   "id": "a6098da0-dda4-4064-b903-2e62e7983d36",
   "metadata": {},
   "outputs": [],
   "source": [
    "from langchain.chains import create_retrieval_chain\n",
    "from langchain.chains.combine_documents import create_stuff_documents_chain\n",
    "from langchain_core.prompts import ChatPromptTemplate\n",
    "\n",
    "\n",
    "system_prompt = (\n",
    "    \"You are an assistant for question-answering tasks. \"\n",
    "    \"Use the following pieces of retrieved context to answer \"\n",
    "    \"the question. If you don't know the answer, say that you \"\n",
    "    \"don't know. Use three sentences maximum and keep the \"\n",
    "    \"answer concise.\"\n",
    "    \"\\n\\n\"\n",
    "    \"{context}\"\n",
    ")\n",
    "prompt = ChatPromptTemplate.from_messages(\n",
    "    [\n",
    "        (\"system\", system_prompt),\n",
    "        (\"human\", \"{input}\"),\n",
    "    ]\n",
    ")"
   ]
  },
  {
   "cell_type": "code",
   "execution_count": 19,
   "id": "8daaa2e8-1f70-4074-9492-fe0c9ee34dad",
   "metadata": {},
   "outputs": [],
   "source": [
    "question_answer_chain = create_stuff_documents_chain(llm, prompt)\n",
    "rag_chain = create_retrieval_chain(retriever, question_answer_chain)"
   ]
  },
  {
   "cell_type": "code",
   "execution_count": 22,
   "id": "83798c06-5823-4c01-9f8b-4a20f0286a08",
   "metadata": {},
   "outputs": [
    {
     "name": "stdout",
     "output_type": "stream",
     "text": [
      "Tata Amantra is a residential project by Tata Housing in Bhiwandi, Thane, India.  It offers 2 & 3 BHK luxury apartments with amenities like a clubhouse, swimming pool, and gym.  The project boasts views of the Ulhas River and is located near the Mumbai-Nashik expressway.\n"
     ]
    }
   ],
   "source": [
    "response = rag_chain.invoke({\"input\": \"What is tataamantra\"})\n",
    "print(response[\"answer\"])"
   ]
  },
  {
   "cell_type": "code",
   "execution_count": 24,
   "id": "acd5f58b-1bca-4af4-a6bb-37066eb38303",
   "metadata": {},
   "outputs": [
    {
     "name": "stdout",
     "output_type": "stream",
     "text": [
      "Victoria On Move is a furniture removal company specializing in furniture removals in Victoria.  They provide various truck sizes and moving services, and they are insured for transit and public liability.  They also offer interstate removal services.\n"
     ]
    }
   ],
   "source": [
    "response = rag_chain.invoke({\"input\": \"What is Victoria\"})\n",
    "print(response[\"answer\"])"
   ]
  },
  {
   "cell_type": "code",
   "execution_count": null,
   "id": "b08e6551-4681-45ca-abed-12d94a7892cc",
   "metadata": {},
   "outputs": [],
   "source": []
  }
 ],
 "metadata": {
  "kernelspec": {
   "display_name": "Python 3 (ipykernel)",
   "language": "python",
   "name": "python3"
  },
  "language_info": {
   "codemirror_mode": {
    "name": "ipython",
    "version": 3
   },
   "file_extension": ".py",
   "mimetype": "text/x-python",
   "name": "python",
   "nbconvert_exporter": "python",
   "pygments_lexer": "ipython3",
   "version": "3.12.9"
  }
 },
 "nbformat": 4,
 "nbformat_minor": 5
}
